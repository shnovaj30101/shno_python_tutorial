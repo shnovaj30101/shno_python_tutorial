{
 "cells": [
  {
   "cell_type": "code",
   "execution_count": 3,
   "id": "defc30a0",
   "metadata": {},
   "outputs": [
    {
     "data": {
      "image/png": "[encoded data removed]",
      "text/plain": [
       "<Figure size 432x288 with 1 Axes>"
      ]
     },
     "metadata": {
      "needs_background": "light"
     },
     "output_type": "display_data"
    }
   ],
   "source": [
    "# 2_22_normal_distribution_plot.ipynb cell 1\n",
    "\n",
    "import random\n",
    "\n",
    "result_avg_list = []\n",
    "for i in range(30000): # 重複執行以下的動作30000次\n",
    "    # 現在這個程式區塊內要做的動作為：把1000個亂數的平均值加進result_avg_list\n",
    "    \n",
    "    sum = 0 # 用來做亂數加總\n",
    "    \n",
    "    for i in range(1000): # 重複執行以下動作1000次\n",
    "        # 現在這個程式區塊內要做的動作為：產生一個亂數\n",
    "        random_number = random.randint(0, 1000)\n",
    "        sum += random_number # 每次產生的亂數要被加總\n",
    "        \n",
    "    result_avg_list.append(int(sum/1000)) \n",
    "    # 最後總和除以1000就是平均值，然後放進result_avg_list\n",
    "    # result_avg_list.append() 是一個函數，可以把括號內的值放進列表 result_avg_list 的尾端\n",
    "    \n",
    "# 這一段程式可能需要跑一段時間\n",
    "\n",
    "import matplotlib.pyplot as plt\n",
    "\n",
    "fig = plt.figure() # 創建一個圖片\n",
    "ax = fig.add_subplot(1,1,1) # 把 fig 切成 1x1 個子圖，把其中的第一個子圖指定到變數 ax\n",
    "ax.hist(result_avg_list, range=(450, 550), bins=100) \n",
    "'''\n",
    "將變數 ax 繪成直方統計圖(hist)\n",
    "x 軸表示某一個「1000次亂數的平均值」\n",
    "y 軸表示 result_avg_list 中有多少個「1000次亂數的平均值」為對應的 x 值\n",
    "\n",
    "將 x 的顯示範圍設為 450~550\n",
    "並把 450~550 區分為 100 個區間\n",
    "'''\n",
    "\n",
    "plt.show() # 顯示圖片"
   ]
  },
  {
   "cell_type": "code",
   "execution_count": null,
   "id": "9e7547e9",
   "metadata": {},
   "outputs": [],
   "source": []
  }
 ],
 "metadata": {
  "kernelspec": {
   "display_name": "Python 3",
   "language": "python",
   "name": "python3"
  },
  "language_info": {
   "codemirror_mode": {
    "name": "ipython",
    "version": 3
   },
   "file_extension": ".py",
   "mimetype": "text/x-python",
   "name": "python",
   "nbconvert_exporter": "python",
   "pygments_lexer": "ipython3",
   "version": "3.8.8"
  }
 },
 "nbformat": 4,
 "nbformat_minor": 5
}
