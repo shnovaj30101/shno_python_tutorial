{
 "cells": [
  {
   "cell_type": "code",
   "execution_count": null,
   "id": "00fbabeb",
   "metadata": {},
   "outputs": [
    {
     "name": "stdout",
     "output_type": "stream",
     "text": [
      "請輸入數列的第一項：2\n",
      "請輸入數列的第二項：4\n",
      "請輸入數列的第三項：1\n",
      "該數列的最後三項為： 2 4 1\n",
      "該數列最後三項總和為 7\n",
      "============================\n",
      "請再增加數列的最後一項：6\n",
      "該數列的最後三項為： 4 1 6\n",
      "該數列最後三項總和為 11\n",
      "============================\n",
      "請再增加數列的最後一項：15\n",
      "該數列的最後三項為： 1 6 15\n",
      "該數列最後三項總和為 22\n",
      "============================\n",
      "請再增加數列的最後一項：5\n",
      "該數列的最後三項為： 6 15 5\n",
      "該數列最後三項總和為 26\n",
      "============================\n",
      "請再增加數列的最後一項：8\n",
      "該數列的最後三項為： 15 5 8\n",
      "該數列最後三項總和為 28\n",
      "============================\n",
      "請再增加數列的最後一項：1\n",
      "該數列的最後三項為： 5 8 1\n",
      "該數列最後三項總和為 14\n",
      "============================\n"
     ]
    }
   ],
   "source": [
    "a = int(input(\"請輸入數列的第一項：\"))\n",
    "b = int(input(\"請輸入數列的第二項：\"))\n",
    "c = int(input(\"請輸入數列的第三項：\"))\n",
    "\n",
    "while True:\n",
    "    print(\"該數列的最後三項為：\", a, b, c)\n",
    "    print(\"該數列最後三項總和為\", a+b+c)\n",
    "    print(\"============================\")\n",
    "    a = b\n",
    "    b = c\n",
    "    c = int(input(\"請再增加數列的最後一項：\"))"
   ]
  }
 ],
 "metadata": {
  "kernelspec": {
   "display_name": "Python 3 (ipykernel)",
   "language": "python",
   "name": "python3"
  },
  "language_info": {
   "codemirror_mode": {
    "name": "ipython",
    "version": 3
   },
   "file_extension": ".py",
   "mimetype": "text/x-python",
   "name": "python",
   "nbconvert_exporter": "python",
   "pygments_lexer": "ipython3",
   "version": "3.9.13"
  },
  "varInspector": {
   "cols": {
    "lenName": 16,
    "lenType": 16,
    "lenVar": 40
   },
   "kernels_config": {
    "python": {
     "delete_cmd_postfix": "",
     "delete_cmd_prefix": "del ",
     "library": "var_list.py",
     "varRefreshCmd": "print(var_dic_list())"
    },
    "r": {
     "delete_cmd_postfix": ") ",
     "delete_cmd_prefix": "rm(",
     "library": "var_list.r",
     "varRefreshCmd": "cat(var_dic_list()) "
    }
   },
   "types_to_exclude": [
    "module",
    "function",
    "builtin_function_or_method",
    "instance",
    "_Feature"
   ],
   "window_display": false
  }
 },
 "nbformat": 4,
 "nbformat_minor": 5
}
