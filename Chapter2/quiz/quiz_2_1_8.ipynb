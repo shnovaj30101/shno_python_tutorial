{
 "cells": [
  {
   "cell_type": "code",
   "execution_count": 1,
   "id": "30c94f3d",
   "metadata": {},
   "outputs": [
    {
     "name": "stdout",
     "output_type": "stream",
     "text": [
      "給定一個六位數： 258367\n",
      "其奇位數總和減去偶位數總和為： 1\n"
     ]
    }
   ],
   "source": [
    "a = 258367\n",
    "print(\"給定一個六位數：\", a)\n",
    "x1 = a // 100000\n",
    "a %= 100000\n",
    "x2 = a // 10000\n",
    "a %= 10000\n",
    "x3 = a // 1000\n",
    "a %= 1000\n",
    "x4 = a // 100\n",
    "a %= 100\n",
    "x5 = a // 10\n",
    "a %= 10\n",
    "x6 = a\n",
    "print(\"其奇位數總和減去偶位數總和為：\", x1+x3+x5-x2-x4-x6)"
   ]
  }
 ],
 "metadata": {
  "kernelspec": {
   "display_name": "Python 3 (ipykernel)",
   "language": "python",
   "name": "python3"
  },
  "language_info": {
   "codemirror_mode": {
    "name": "ipython",
    "version": 3
   },
   "file_extension": ".py",
   "mimetype": "text/x-python",
   "name": "python",
   "nbconvert_exporter": "python",
   "pygments_lexer": "ipython3",
   "version": "3.9.13"
  }
 },
 "nbformat": 4,
 "nbformat_minor": 5
}
