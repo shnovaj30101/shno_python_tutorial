{
 "cells": [
  {
   "cell_type": "code",
   "execution_count": 6,
   "id": "c2904bd5",
   "metadata": {},
   "outputs": [
    {
     "name": "stdout",
     "output_type": "stream",
     "text": [
      "給定兩個座標點，分別為：\n",
      "座標點1：( 1 , 3 )\n",
      "座標點2：( 6 , 10 )\n",
      "則兩點距離為： 8.602325267042627\n",
      "兩點斜率為： 1.4\n"
     ]
    }
   ],
   "source": [
    "x1 = 1\n",
    "y1 = 3\n",
    "x2 = 6\n",
    "y2 = 10\n",
    "print(\"給定兩個座標點，分別為：\")\n",
    "print(\"座標點1：(\", x1, \",\", y1, \")\")\n",
    "print(\"座標點2：(\", x2, \",\", y2, \")\")\n",
    "distance = ((y2-y1)**2 + (x2-x1)**2)**0.5\n",
    "slope = (y2-y1)/(x2-x1)\n",
    "print(\"則兩點距離為：\", distance)\n",
    "print(\"兩點斜率為：\", slope)"
   ]
  },
  {
   "cell_type": "code",
   "execution_count": null,
   "id": "721aa092",
   "metadata": {},
   "outputs": [],
   "source": []
  }
 ],
 "metadata": {
  "kernelspec": {
   "display_name": "Python 3 (ipykernel)",
   "language": "python",
   "name": "python3"
  },
  "language_info": {
   "codemirror_mode": {
    "name": "ipython",
    "version": 3
   },
   "file_extension": ".py",
   "mimetype": "text/x-python",
   "name": "python",
   "nbconvert_exporter": "python",
   "pygments_lexer": "ipython3",
   "version": "3.9.13"
  }
 },
 "nbformat": 4,
 "nbformat_minor": 5
}
