{
 "cells": [
  {
   "cell_type": "code",
   "execution_count": 1,
   "id": "3e246aea",
   "metadata": {},
   "outputs": [
    {
     "name": "stdout",
     "output_type": "stream",
     "text": [
      "若今天為禮拜 2\n",
      "則過了 100 天後為禮拜 4\n",
      "則過了 150 天後為禮拜 5\n",
      "則過了 180 天後為禮拜 7\n",
      "則過了 200 天後為禮拜 6\n",
      "則過了 360 天後為禮拜 5\n",
      "則過了 400 天後為禮拜 3\n",
      "則過了 500 天後為禮拜 5\n"
     ]
    }
   ],
   "source": [
    "# quiz_1_3_9.ipynb\n",
    "\n",
    "print(\"若今天為禮拜 2\")\n",
    "print(\"則過了 100 天後為禮拜\", (2+100-1)%7+1)\n",
    "print(\"則過了 150 天後為禮拜\", (2+150-1)%7+1)\n",
    "print(\"則過了 180 天後為禮拜\", (2+180-1)%7+1)\n",
    "print(\"則過了 200 天後為禮拜\", (2+200-1)%7+1)\n",
    "print(\"則過了 360 天後為禮拜\", (2+360-1)%7+1)\n",
    "print(\"則過了 400 天後為禮拜\", (2+400-1)%7+1)\n",
    "print(\"則過了 500 天後為禮拜\", (2+500-1)%7+1)"
   ]
  }
 ],
 "metadata": {
  "kernelspec": {
   "display_name": "Python 3 (ipykernel)",
   "language": "python",
   "name": "python3"
  },
  "language_info": {
   "codemirror_mode": {
    "name": "ipython",
    "version": 3
   },
   "file_extension": ".py",
   "mimetype": "text/x-python",
   "name": "python",
   "nbconvert_exporter": "python",
   "pygments_lexer": "ipython3",
   "version": "3.9.13"
  }
 },
 "nbformat": 4,
 "nbformat_minor": 5
}
