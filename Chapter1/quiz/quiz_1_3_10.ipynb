{
 "cells": [
  {
   "cell_type": "code",
   "execution_count": 1,
   "id": "bee8a36b",
   "metadata": {},
   "outputs": [
    {
     "name": "stdout",
     "output_type": "stream",
     "text": [
      "若今天存了 10000 元，利率為 2 %\n",
      "則 1 年後的金額為： 1020.0\n",
      "則 2 年後的金額為： 1040.4\n",
      "則 3 年後的金額為： 1061.208\n",
      "則 4 年後的金額為： 1082.43216\n",
      "則 5 年後的金額為： 1104.0808032\n",
      "則 6 年後的金額為： 1126.1624192640002\n",
      "則 7 年後的金額為： 1148.68566764928\n",
      "則 8 年後的金額為： 1171.6593810022657\n"
     ]
    }
   ],
   "source": [
    "# quiz_1_3_10.ipynb\n",
    "\n",
    "print(\"若今天存了 10000 元，利率為 2 %\")\n",
    "print(\"則 1 年後的金額為：\", 1000 * 1.02)\n",
    "print(\"則 2 年後的金額為：\", 1000 * 1.02**2)\n",
    "print(\"則 3 年後的金額為：\", 1000 * 1.02**3)\n",
    "print(\"則 4 年後的金額為：\", 1000 * 1.02**4)\n",
    "print(\"則 5 年後的金額為：\", 1000 * 1.02**5)\n",
    "print(\"則 6 年後的金額為：\", 1000 * 1.02**6)\n",
    "print(\"則 7 年後的金額為：\", 1000 * 1.02**7)\n",
    "print(\"則 8 年後的金額為：\", 1000 * 1.02**8)"
   ]
  }
 ],
 "metadata": {
  "kernelspec": {
   "display_name": "Python 3 (ipykernel)",
   "language": "python",
   "name": "python3"
  },
  "language_info": {
   "codemirror_mode": {
    "name": "ipython",
    "version": 3
   },
   "file_extension": ".py",
   "mimetype": "text/x-python",
   "name": "python",
   "nbconvert_exporter": "python",
   "pygments_lexer": "ipython3",
   "version": "3.9.13"
  }
 },
 "nbformat": 4,
 "nbformat_minor": 5
}
